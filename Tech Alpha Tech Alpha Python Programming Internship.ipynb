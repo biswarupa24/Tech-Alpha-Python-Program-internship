{
 "cells": [
  {
   "cell_type": "markdown",
   "id": "dc3de0b3",
   "metadata": {},
   "source": [
    "# Task:1 - Fibonacci Generator\n",
    "The fibonacci series is a sequence where each number is the sum of the preceding numbers, defined by a mathematical recurrence relationship."
   ]
  },
  {
   "cell_type": "code",
   "execution_count": 1,
   "id": "4439509e",
   "metadata": {},
   "outputs": [
    {
     "name": "stdout",
     "output_type": "stream",
     "text": [
      "[0, 1, 1, 2, 3]\n"
     ]
    }
   ],
   "source": [
    "def generate_fibonacci(n):\n",
    "    fibonacci_sequence = [0, 1]\n",
    "    while len(fibonacci_sequence) < n:\n",
    "        fibonacci_sequence.append(fibonacci_sequence[-1] + fibonacci_sequence[-2])\n",
    "    return fibonacci_sequence\n",
    "\n",
    "n = 5\n",
    "fibonacci_numbers = generate_fibonacci(n)\n",
    "print(fibonacci_numbers)"
   ]
  },
  {
   "cell_type": "markdown",
   "id": "340558c1",
   "metadata": {},
   "source": [
    "# Task:2 - Voice Assistant\n",
    "Create a custom voice assistant using python to personalize and automate tasks according to your needs. Python's versatility makes it an excellent choice for scripting and development, allowing you to build a voice assistant that can complete with the likes of siri, alexa and google assistant"
   ]
  },
  {
   "cell_type": "code",
   "execution_count": 8,
   "id": "54c7464a",
   "metadata": {},
   "outputs": [
    {
     "name": "stdout",
     "output_type": "stream",
     "text": [
      "Listening...\n",
      "Recognizing...\n",
      "User said: time\n",
      "\n",
      "Listening...\n",
      "Recognizing...\n",
      "User said: date\n",
      "\n",
      "Listening...\n",
      "Recognizing...\n",
      "Sorry, I didn't get that.\n",
      "Listening...\n",
      "Recognizing...\n",
      "User said: hello\n",
      "\n",
      "Listening...\n",
      "Recognizing...\n",
      "User said: bye bye\n",
      "\n",
      "Listening...\n",
      "Recognizing...\n",
      "Sorry, I didn't get that.\n",
      "Listening...\n",
      "Recognizing...\n",
      "Sorry, I didn't get that.\n",
      "Listening...\n",
      "Recognizing...\n",
      "Sorry, I didn't get that.\n",
      "Listening...\n",
      "Recognizing...\n",
      "Sorry, I didn't get that.\n"
     ]
    },
    {
     "name": "stderr",
     "output_type": "stream",
     "text": [
      "Exception ignored in: <function BSTR.__del__ at 0x000002056977A520>\n",
      "Traceback (most recent call last):\n",
      "  File \"C:\\Users\\senap\\anaconda3\\Lib\\site-packages\\comtypes\\__init__.py\", line 683, in __del__\n",
      "    def __del__(self, _free=windll.oleaut32.SysFreeString):\n",
      "\n",
      "KeyboardInterrupt: \n"
     ]
    },
    {
     "name": "stdout",
     "output_type": "stream",
     "text": [
      "Listening...\n",
      "Recognizing...\n",
      "Sorry, I didn't get that.\n",
      "Listening...\n"
     ]
    },
    {
     "ename": "KeyboardInterrupt",
     "evalue": "",
     "output_type": "error",
     "traceback": [
      "\u001b[1;31m---------------------------------------------------------------------------\u001b[0m",
      "\u001b[1;31mKeyboardInterrupt\u001b[0m                         Traceback (most recent call last)",
      "Cell \u001b[1;32mIn[8], line 56\u001b[0m\n\u001b[0;32m     53\u001b[0m         execute_command(command)\n\u001b[0;32m     55\u001b[0m \u001b[38;5;28;01mif\u001b[39;00m \u001b[38;5;18m__name__\u001b[39m \u001b[38;5;241m==\u001b[39m \u001b[38;5;124m\"\u001b[39m\u001b[38;5;124m__main__\u001b[39m\u001b[38;5;124m\"\u001b[39m:\n\u001b[1;32m---> 56\u001b[0m     main()\n",
      "Cell \u001b[1;32mIn[8], line 52\u001b[0m, in \u001b[0;36mmain\u001b[1;34m()\u001b[0m\n\u001b[0;32m     49\u001b[0m speak(\u001b[38;5;124m\"\u001b[39m\u001b[38;5;124mHow can I assist you today?\u001b[39m\u001b[38;5;124m\"\u001b[39m)\n\u001b[0;32m     51\u001b[0m \u001b[38;5;28;01mwhile\u001b[39;00m \u001b[38;5;28;01mTrue\u001b[39;00m:\n\u001b[1;32m---> 52\u001b[0m     command \u001b[38;5;241m=\u001b[39m listen()\n\u001b[0;32m     53\u001b[0m     execute_command(command)\n",
      "Cell \u001b[1;32mIn[8], line 19\u001b[0m, in \u001b[0;36mlisten\u001b[1;34m()\u001b[0m\n\u001b[0;32m     17\u001b[0m \u001b[38;5;28mprint\u001b[39m(\u001b[38;5;124m\"\u001b[39m\u001b[38;5;124mListening...\u001b[39m\u001b[38;5;124m\"\u001b[39m)\n\u001b[0;32m     18\u001b[0m recognizer\u001b[38;5;241m.\u001b[39madjust_for_ambient_noise(source)\n\u001b[1;32m---> 19\u001b[0m audio \u001b[38;5;241m=\u001b[39m recognizer\u001b[38;5;241m.\u001b[39mlisten(source)\n\u001b[0;32m     21\u001b[0m \u001b[38;5;28;01mtry\u001b[39;00m:\n\u001b[0;32m     22\u001b[0m     \u001b[38;5;28mprint\u001b[39m(\u001b[38;5;124m\"\u001b[39m\u001b[38;5;124mRecognizing...\u001b[39m\u001b[38;5;124m\"\u001b[39m)\n",
      "File \u001b[1;32m~\\anaconda3\\Lib\\site-packages\\speech_recognition\\__init__.py:523\u001b[0m, in \u001b[0;36mRecognizer.listen\u001b[1;34m(self, source, timeout, phrase_time_limit, snowboy_configuration)\u001b[0m\n\u001b[0;32m    520\u001b[0m \u001b[38;5;28;01mif\u001b[39;00m phrase_time_limit \u001b[38;5;129;01mand\u001b[39;00m elapsed_time \u001b[38;5;241m-\u001b[39m phrase_start_time \u001b[38;5;241m>\u001b[39m phrase_time_limit:\n\u001b[0;32m    521\u001b[0m     \u001b[38;5;28;01mbreak\u001b[39;00m\n\u001b[1;32m--> 523\u001b[0m buffer \u001b[38;5;241m=\u001b[39m source\u001b[38;5;241m.\u001b[39mstream\u001b[38;5;241m.\u001b[39mread(source\u001b[38;5;241m.\u001b[39mCHUNK)\n\u001b[0;32m    524\u001b[0m \u001b[38;5;28;01mif\u001b[39;00m \u001b[38;5;28mlen\u001b[39m(buffer) \u001b[38;5;241m==\u001b[39m \u001b[38;5;241m0\u001b[39m: \u001b[38;5;28;01mbreak\u001b[39;00m  \u001b[38;5;66;03m# reached end of the stream\u001b[39;00m\n\u001b[0;32m    525\u001b[0m frames\u001b[38;5;241m.\u001b[39mappend(buffer)\n",
      "File \u001b[1;32m~\\anaconda3\\Lib\\site-packages\\speech_recognition\\__init__.py:199\u001b[0m, in \u001b[0;36mMicrophone.MicrophoneStream.read\u001b[1;34m(self, size)\u001b[0m\n\u001b[0;32m    198\u001b[0m \u001b[38;5;28;01mdef\u001b[39;00m \u001b[38;5;21mread\u001b[39m(\u001b[38;5;28mself\u001b[39m, size):\n\u001b[1;32m--> 199\u001b[0m     \u001b[38;5;28;01mreturn\u001b[39;00m \u001b[38;5;28mself\u001b[39m\u001b[38;5;241m.\u001b[39mpyaudio_stream\u001b[38;5;241m.\u001b[39mread(size, exception_on_overflow\u001b[38;5;241m=\u001b[39m\u001b[38;5;28;01mFalse\u001b[39;00m)\n",
      "File \u001b[1;32m~\\anaconda3\\Lib\\site-packages\\pyaudio\\__init__.py:570\u001b[0m, in \u001b[0;36mPyAudio.Stream.read\u001b[1;34m(self, num_frames, exception_on_overflow)\u001b[0m\n\u001b[0;32m    567\u001b[0m \u001b[38;5;28;01mif\u001b[39;00m \u001b[38;5;129;01mnot\u001b[39;00m \u001b[38;5;28mself\u001b[39m\u001b[38;5;241m.\u001b[39m_is_input:\n\u001b[0;32m    568\u001b[0m     \u001b[38;5;28;01mraise\u001b[39;00m \u001b[38;5;167;01mIOError\u001b[39;00m(\u001b[38;5;124m\"\u001b[39m\u001b[38;5;124mNot input stream\u001b[39m\u001b[38;5;124m\"\u001b[39m,\n\u001b[0;32m    569\u001b[0m                   paCanNotReadFromAnOutputOnlyStream)\n\u001b[1;32m--> 570\u001b[0m \u001b[38;5;28;01mreturn\u001b[39;00m pa\u001b[38;5;241m.\u001b[39mread_stream(\u001b[38;5;28mself\u001b[39m\u001b[38;5;241m.\u001b[39m_stream, num_frames,\n\u001b[0;32m    571\u001b[0m                       exception_on_overflow)\n",
      "\u001b[1;31mKeyboardInterrupt\u001b[0m: "
     ]
    }
   ],
   "source": [
    "import speech_recognition as sr\n",
    "import pyttsx3\n",
    "import datetime\n",
    "\n",
    "# Initialize the speech recognizer and text-to-speech engine\n",
    "recognizer = sr.Recognizer()\n",
    "engine = pyttsx3.init()\n",
    "\n",
    "# Function to speak out text\n",
    "def speak(text):\n",
    "    engine.say(text)\n",
    "    engine.runAndWait()\n",
    "\n",
    "# Function to recognize speech\n",
    "def listen():\n",
    "    with sr.Microphone() as source:\n",
    "        print(\"Listening...\")\n",
    "        recognizer.adjust_for_ambient_noise(source)\n",
    "        audio = recognizer.listen(source)\n",
    "\n",
    "        try:\n",
    "            print(\"Recognizing...\")\n",
    "            query = recognizer.recognize_google(audio, language='en-US')\n",
    "            print(f\"User said: {query}\\n\")\n",
    "            return query.lower()\n",
    "        except Exception as e:\n",
    "            print(\"Sorry, I didn't get that.\")\n",
    "            return \"\"\n",
    "\n",
    "# Function to execute commands\n",
    "def execute_command(command):\n",
    "    if 'time' in command:\n",
    "        now = datetime.datetime.now().strftime(\"%H:%M:%S\")\n",
    "        speak(f\"The current time is {now}\")\n",
    "    elif 'date' in command:\n",
    "        today = datetime.datetime.now().strftime(\"%Y-%m-%d\")\n",
    "        speak(f\"Today's date is {today}\")\n",
    "    elif 'hello' in command:\n",
    "        speak(\"Hello! How can I help you?\")\n",
    "    elif 'bye' in command:\n",
    "        speak(\"Goodbye!\")\n",
    "        exit()\n",
    "    else:\n",
    "        speak(\"I'm sorry, I didn't understand that command.\")\n",
    "\n",
    "# Main function to run the voice assistant\n",
    "def main():\n",
    "    speak(\"Hello! I'm your personal voice assistant.\")\n",
    "    speak(\"How can I assist you today?\")\n",
    "\n",
    "    while True:\n",
    "        command = listen()\n",
    "        execute_command(command)\n",
    "\n",
    "if __name__ == \"__main__\":\n",
    "    main()\n"
   ]
  },
  {
   "cell_type": "markdown",
   "id": "1557c75f",
   "metadata": {},
   "source": [
    "# Task:3 - Given a number n, write a program to print a diamond shape with 2n rows"
   ]
  },
  {
   "cell_type": "code",
   "execution_count": 7,
   "id": "4ecfd280",
   "metadata": {},
   "outputs": [
    {
     "name": "stdout",
     "output_type": "stream",
     "text": [
      "    *\n",
      "   ***\n",
      "  *****\n",
      " *******\n",
      "*********\n",
      " *******\n",
      "  *****\n",
      "   ***\n",
      "    *\n"
     ]
    }
   ],
   "source": [
    "def print_diamond(n):\n",
    "    for i in range(1, n+1):     #Upper half of the diamond\n",
    "        print(\" \" * (n-i) + \"*\" * (2*i-1))\n",
    "    for i in range(n-1, 0, -1):     #Lower half of the diamond\n",
    "        print(\" \" * (n-i) + \"*\" * (2*i-1))\n",
    "\n",
    "n = 5\n",
    "print_diamond(n)"
   ]
  },
  {
   "cell_type": "code",
   "execution_count": null,
   "id": "e742e660",
   "metadata": {},
   "outputs": [],
   "source": []
  }
 ],
 "metadata": {
  "kernelspec": {
   "display_name": "Python 3 (ipykernel)",
   "language": "python",
   "name": "python3"
  },
  "language_info": {
   "codemirror_mode": {
    "name": "ipython",
    "version": 3
   },
   "file_extension": ".py",
   "mimetype": "text/x-python",
   "name": "python",
   "nbconvert_exporter": "python",
   "pygments_lexer": "ipython3",
   "version": "3.11.4"
  }
 },
 "nbformat": 4,
 "nbformat_minor": 5
}
